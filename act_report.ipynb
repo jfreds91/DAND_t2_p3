{
 "cells": [
  {
   "cell_type": "markdown",
   "metadata": {},
   "source": [
    "# Act Report"
   ]
  },
  {
   "cell_type": "markdown",
   "metadata": {},
   "source": [
    "Jesse Fredrickson\n",
    "\n",
    "11/24/18"
   ]
  },
  {
   "cell_type": "markdown",
   "metadata": {},
   "source": [
    "## Background\n",
    "WeRateDogs (@dog_rates) is a wildly popular Twitter account which is known for enthusiastically rating submissions of dog photos and making conjectures about the behavior and quirks (both wholesome and mischevious) of the depicted canines. Since the account's creation, the administrator has rated thousands of dogs, and has amassed a strong following which is reflected in the numbers of favorites and retweets each of its tweets garners. The popularity of this account marks it as a source of interest, and the volume of its recorded media makes it a perfect candidate for programmatic data analysis."
   ]
  },
  {
   "cell_type": "markdown",
   "metadata": {},
   "source": [
    "## Method\n",
    "To uncover insights on the tweets posted by WeRateDogs, I gathered approximately 2300 tweets posted by the account between 2015 and 2017 and ran some analysis on the text bodies of each tweet for info. I also relied heavily on a neural network developed by Udacity which determined the breed of each dog in question. After cleaning operations, I was left with approximately 1400 tweets to analyze."
   ]
  },
  {
   "cell_type": "markdown",
   "metadata": {},
   "source": [
    "## Insights"
   ]
  },
  {
   "cell_type": "markdown",
   "metadata": {},
   "source": [
    "### They're good dogs\n",
    "As I stated above, WeRateDogs is nothing if not enthusiastic. On a scale of 1-10, the average dog is rated 11, with many rated as high as 14. Although some dogs are rated poorly (WeRateDogs seems to dislike photos of dogs engaged in dangerous behavior, such as driving a car with mal-adjusted mirror), 75% scored a 10 or higher.\n",
    "\n",
    "<img src=\"ratings_hist.png\">"
   ]
  },
  {
   "cell_type": "markdown",
   "metadata": {},
   "source": [
    "### Especially Samoyeds\n",
    "Although almost all dogs are good dogs, according to @dog_rates, Samoyeds are the goodest. Among the top 10 most commonly rated breeds of dogs (with those falling outside the top 9 grouped together into 'other'), Samoyeds rank the highest in terms of median rating, interquartile range, and maximum rating. As a cat lover, I had to google what a Samoyed was... and I stand with @dog_rates on this one. I was also pleased to see that pugs fell to the bottom of the list.\n",
    "\n",
    "<img src=\"ratings_by_breed.png\">"
   ]
  },
  {
   "cell_type": "markdown",
   "metadata": {},
   "source": [
    "### The Gold Standard\n",
    "Samoyeds may top the list by WeRateDogs' standards, but the people love goldens. Not only did golden retrievers appear by far the most often (134 times, beating out labradors' 86 appearances in a landslide), but they were also favorited the most times, with the average tweet containing a golden retriever earning 8296 retweets.\n",
    "\n",
    "<img src=\"favorites_by_breed.png\">"
   ]
  },
  {
   "cell_type": "markdown",
   "metadata": {},
   "source": [
    "### Return of the King\n",
    "Despite public favoritism of the golden retriever, Samoyeds were retweeted the most times on average. Perhaps the masses want to share samoyeds but keeps goldens all to themselves? Further analysis of what motivates someone to retweet instead of favorite is needed. Samoyeds, golden retrievers, and chows are in a dead heat for most retweets, earning 2332, 2308, and 2227 median retweets respectively.\n",
    "\n",
    "<img src=\"retweets_by_breed.png\"> "
   ]
  },
  {
   "cell_type": "markdown",
   "metadata": {},
   "source": [
    "### People are people\n",
    "Not robots. Despite a mass of data correlating ratings, retweets, favorites, and dog breeds, at the end of the day it is up to the individual dog in question to earn its likes. A linear regression model attempting to use WeRateDogs' rating and all 111 rated dogs breeds to predict a favorite count proved a poor guesser, yielding an R-squared value of just 0.345.\n",
    "\n",
    "<img src=\"LinReg_table.png\">\t\t\n"
   ]
  },
  {
   "cell_type": "code",
   "execution_count": null,
   "metadata": {},
   "outputs": [],
   "source": []
  }
 ],
 "metadata": {
  "kernelspec": {
   "display_name": "Python 3",
   "language": "python",
   "name": "python3"
  },
  "language_info": {
   "codemirror_mode": {
    "name": "ipython",
    "version": 3
   },
   "file_extension": ".py",
   "mimetype": "text/x-python",
   "name": "python",
   "nbconvert_exporter": "python",
   "pygments_lexer": "ipython3",
   "version": "3.7.2"
  }
 },
 "nbformat": 4,
 "nbformat_minor": 2
}
